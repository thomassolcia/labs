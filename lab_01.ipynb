{
  "nbformat": 4,
  "nbformat_minor": 0,
  "metadata": {
    "colab": {
      "name": "lab#01.ipynb",
      "provenance": []
    },
    "kernelspec": {
      "name": "python3",
      "display_name": "Python 3"
    }
  },
  "cells": [
    {
      "cell_type": "markdown",
      "metadata": {
        "id": "fnzYWnbkPucG",
        "colab_type": "text"
      },
      "source": [
        "# Laboratório #01\n",
        "\n",
        "Fazer o histograma das três imagens:\n",
        "\n",
        "*  `grey01.png`\n",
        "*  `grey02.png`\n",
        "*  `grey03.png`\n"
      ]
    },
    {
      "cell_type": "code",
      "metadata": {
        "id": "QJ63so-kO_hT",
        "colab_type": "code",
        "outputId": "7331d18c-99f9-4140-9156-e1b4fb4dc239",
        "colab": {
          "base_uri": "https://localhost:8080/",
          "height": 102
        }
      },
      "source": [
        "!pip install requests"
      ],
      "execution_count": 1,
      "outputs": [
        {
          "output_type": "stream",
          "text": [
            "Requirement already satisfied: requests in /usr/local/lib/python3.6/dist-packages (2.21.0)\n",
            "Requirement already satisfied: certifi>=2017.4.17 in /usr/local/lib/python3.6/dist-packages (from requests) (2020.4.5.1)\n",
            "Requirement already satisfied: chardet<3.1.0,>=3.0.2 in /usr/local/lib/python3.6/dist-packages (from requests) (3.0.4)\n",
            "Requirement already satisfied: idna<2.9,>=2.5 in /usr/local/lib/python3.6/dist-packages (from requests) (2.8)\n",
            "Requirement already satisfied: urllib3<1.25,>=1.21.1 in /usr/local/lib/python3.6/dist-packages (from requests) (1.24.3)\n"
          ],
          "name": "stdout"
        }
      ]
    },
    {
      "cell_type": "code",
      "metadata": {
        "id": "XZcp4xBPPfZO",
        "colab_type": "code",
        "outputId": "f4d17d02-1411-4f49-ab8f-35e795d74fcd",
        "colab": {
          "base_uri": "https://localhost:8080/",
          "height": 265
        }
      },
      "source": [
        "import matplotlib.pyplot as plt\n",
        "from PIL import Image\n",
        "from numpy import array\n",
        "import requests\n",
        "from io import BytesIO\n",
        "import numpy as np\n",
        "\n",
        "plt.figure(figsize=(19,4))\n",
        "plt.subplot(131)\n",
        "response = requests.get('https://raw.githubusercontent.com/COMP3025/labs/master/grey01.png')\n",
        "img1 = Image.open(BytesIO(response.content)).convert()\n",
        "plt.imshow(img1)\n",
        "plt.axis('off')\n",
        "\n",
        "plt.subplot(132)\n",
        "response = requests.get('https://raw.githubusercontent.com/COMP3025/labs/master/grey02.png')\n",
        "img2 = Image.open(BytesIO(response.content)).convert()\n",
        "plt.imshow(img2)\n",
        "plt.axis('off')\n",
        "\n",
        "plt.subplot(133)\n",
        "response = requests.get('https://raw.githubusercontent.com/COMP3025/labs/master/grey03.png')\n",
        "img3 = Image.open(BytesIO(response.content)).convert()\n",
        "plt.imshow(img3)\n",
        "plt.axis('off')"
      ],
      "execution_count": 14,
      "outputs": [
        {
          "output_type": "execute_result",
          "data": {
            "text/plain": [
              "(-0.5, 498.5, 499.5, -0.5)"
            ]
          },
          "metadata": {
            "tags": []
          },
          "execution_count": 14
        },
        {
          "output_type": "display_data",
          "data": {
            "image/png": "[encoded data removed]",
            "text/plain": [
              "<Figure size 1368x288 with 3 Axes>"
            ]
          },
          "metadata": {
            "tags": [],
            "needs_background": "light"
          }
        }
      ]
    },
    {
      "cell_type": "code",
      "metadata": {
        "id": "mtGpiyNQRl6-",
        "colab_type": "code",
        "colab": {
          "base_uri": "https://localhost:8080/",
          "height": 354
        },
        "outputId": "4331872b-d8ba-4045-8cbf-d484b58c92a0"
      },
      "source": [
        "img1_arr = np.array(img1)\n",
        "\n",
        "plt.figure(figsize=(19,4))\n",
        "\n",
        "plt.subplot(131)\n",
        "plt.imshow(Image.fromarray(img1_arr))\n",
        "\n",
        "plt.subplot(132)\n",
        "plt.hist(img1_arr.ravel(), color='gray')"
      ],
      "execution_count": 17,
      "outputs": [
        {
          "output_type": "execute_result",
          "data": {
            "text/plain": [
              "(array([375000.,      0.,      0.,      0.,      0.,   1500.,      0.,\n",
              "             0.,   1500., 620000.]),\n",
              " array([179. , 186.6, 194.2, 201.8, 209.4, 217. , 224.6, 232.2, 239.8,\n",
              "        247.4, 255. ]),\n",
              " <a list of 10 Patch objects>)"
            ]
          },
          "metadata": {
            "tags": []
          },
          "execution_count": 17
        },
        {
          "output_type": "display_data",
          "data": {
            "image/png": "[encoded data removed]",
            "text/plain": [
              "<Figure size 1368x288 with 2 Axes>"
            ]
          },
          "metadata": {
            "tags": [],
            "needs_background": "light"
          }
        }
      ]
    },
    {
      "cell_type": "code",
      "metadata": {
        "id": "DVkS0_PkTgOi",
        "colab_type": "code",
        "colab": {
          "base_uri": "https://localhost:8080/",
          "height": 354
        },
        "outputId": "7ae67074-e92c-4d72-c3f9-703317f060e2"
      },
      "source": [
        "img2_arr = np.array(img2)\n",
        "\n",
        "plt.figure(figsize=(19,4))\n",
        "\n",
        "plt.subplot(131)\n",
        "plt.imshow(Image.fromarray(img2_arr))\n",
        "\n",
        "plt.subplot(132)\n",
        "plt.hist(img2_arr.ravel(), color='gray')"
      ],
      "execution_count": 20,
      "outputs": [
        {
          "output_type": "execute_result",
          "data": {
            "text/plain": [
              "(array([385923.,    996.,    831.,    726.,    660.,    708.,    708.,\n",
              "           759.,   1005., 605684.]),\n",
              " array([204. , 209.1, 214.2, 219.3, 224.4, 229.5, 234.6, 239.7, 244.8,\n",
              "        249.9, 255. ]),\n",
              " <a list of 10 Patch objects>)"
            ]
          },
          "metadata": {
            "tags": []
          },
          "execution_count": 20
        },
        {
          "output_type": "display_data",
          "data": {
            "image/png": "[encoded data removed]",
            "text/plain": [
              "<Figure size 1368x288 with 2 Axes>"
            ]
          },
          "metadata": {
            "tags": [],
            "needs_background": "light"
          }
        }
      ]
    },
    {
      "cell_type": "code",
      "metadata": {
        "id": "38JVwbPlTl0C",
        "colab_type": "code",
        "colab": {
          "base_uri": "https://localhost:8080/",
          "height": 354
        },
        "outputId": "8d075bf0-6d4b-416e-f2bb-957ebe9052b5"
      },
      "source": [
        "img3_arr = np.array(img3)\n",
        "\n",
        "plt.figure(figsize=(19,4))\n",
        "\n",
        "plt.subplot(131)\n",
        "plt.imshow(Image.fromarray(img3_arr))\n",
        "\n",
        "plt.subplot(132)\n",
        "plt.hist(img3_arr.ravel(), color='gray')"
      ],
      "execution_count": 21,
      "outputs": [
        {
          "output_type": "execute_result",
          "data": {
            "text/plain": [
              "(array([359427.,   5874.,   3705.,   6036.,   3741.,   1560.,   6585.,\n",
              "          2925.,   5091., 603056.]),\n",
              " array([179. , 186.6, 194.2, 201.8, 209.4, 217. , 224.6, 232.2, 239.8,\n",
              "        247.4, 255. ]),\n",
              " <a list of 10 Patch objects>)"
            ]
          },
          "metadata": {
            "tags": []
          },
          "execution_count": 21
        },
        {
          "output_type": "display_data",
          "data": {
            "image/png": "[encoded data removed]",
            "text/plain": [
              "<Figure size 1368x288 with 2 Axes>"
            ]
          },
          "metadata": {
            "tags": [],
            "needs_background": "light"
          }
        }
      ]
    },
    {
      "cell_type": "code",
      "metadata": {
        "id": "gjooYD1OTALg",
        "colab_type": "code",
        "colab": {}
      },
      "source": [
        ""
      ],
      "execution_count": 0,
      "outputs": []
    }
  ]
}